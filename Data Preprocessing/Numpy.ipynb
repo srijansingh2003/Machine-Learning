{
 "cells": [
  {
   "cell_type": "markdown",
   "metadata": {},
   "source": [
    "##Numpy - Numerical Python\n",
    "\n",
    "Advantages:\n",
    "1. Mathematical Operations\n",
    "2. Faster than lists"
   ]
  },
  {
   "cell_type": "code",
   "execution_count": 1,
   "metadata": {},
   "outputs": [],
   "source": [
    "import numpy as np\n",
    "from time import process_time"
   ]
  },
  {
   "cell_type": "code",
   "execution_count": 2,
   "metadata": {},
   "outputs": [
    {
     "name": "stdout",
     "output_type": "stream",
     "text": [
      "1.78125\n"
     ]
    }
   ],
   "source": [
    "#Time taken by a list\n",
    "start_time = 0\n",
    "lst = [i for i in range(10000)]\n",
    "lst = [i+5 for i in lst]\n",
    "end_time = process_time()\n",
    "print(end_time - start_time)"
   ]
  }
 ],
 "metadata": {
  "kernelspec": {
   "display_name": "Python 3.9.13 64-bit (microsoft store)",
   "language": "python",
   "name": "python3"
  },
  "language_info": {
   "codemirror_mode": {
    "name": "ipython",
    "version": 3
   },
   "file_extension": ".py",
   "mimetype": "text/x-python",
   "name": "python",
   "nbconvert_exporter": "python",
   "pygments_lexer": "ipython3",
   "version": "3.9.13"
  },
  "orig_nbformat": 4,
  "vscode": {
   "interpreter": {
    "hash": "217e6f5c7196d98122a6e952943320dfeb41fa30a471fe521722ba30ca72ea50"
   }
  }
 },
 "nbformat": 4,
 "nbformat_minor": 2
}
